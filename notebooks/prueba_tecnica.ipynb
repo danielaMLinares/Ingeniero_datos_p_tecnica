{
 "cells": [
  {
   "cell_type": "code",
   "execution_count": 6,
   "id": "2ff92dc6",
   "metadata": {},
   "outputs": [],
   "source": [
    "import pandas as pd\n",
    "import os\n",
    "import logging\n",
    "import sys\n",
    "import pyodbc"
   ]
  },
  {
   "cell_type": "code",
   "execution_count": 14,
   "id": "6c3e9567",
   "metadata": {},
   "outputs": [],
   "source": [
    "nombre_archivo=r'C:\\Users\\user\\Desktop\\PRUEBA_TECNICA\\Ingeniero_datos_p_tecnica\\data\\raw'"
   ]
  },
  {
   "cell_type": "code",
   "execution_count": 15,
   "id": "7563830f",
   "metadata": {},
   "outputs": [],
   "source": [
    "def conf_logging (log_archivo:str):#conf_logging (log_archivo):\n",
    "\n",
    "    logging.basicConfig(\n",
    "    level=logging.INFO,\n",
    "    format=\"%(asctime)s - %(levelname)s - %(message)s\",\n",
    "    handlers=[\n",
    "        logging.FileHandler(log_archivo, mode='a',encoding=\"utf-8\"),  # Guardar log en archivo\n",
    "        logging.StreamHandler(),  # También quiero imprimir log en la consola\n",
    "    ],\n",
    "    )\n",
    "    logger = logging.getLogger()\n",
    "    return logger"
   ]
  },
  {
   "cell_type": "code",
   "execution_count": 25,
   "id": "ec40488e",
   "metadata": {},
   "outputs": [
    {
     "name": "stderr",
     "output_type": "stream",
     "text": [
      "2025-07-28 00:11:46,837 - INFO - Conexión a la base de datos sumi exitosa.\n"
     ]
    }
   ],
   "source": [
    "try:\n",
    "    conn = pyodbc.connect(\n",
    "        \"DRIVER={PostgreSQL ODBC Driver(UNICODE)};\"\n",
    "        \"SERVER=localhost;\"\n",
    "        \"DATABASE=pipeline_db;\" \n",
    "        \"PORT=5433;\"\n",
    "        \"UID=postgres;\"\n",
    "        \"PWD=postgres\"\n",
    "    )\n",
    "    logging.info(\"Conexión a la base de datos sumi exitosa.\")\n",
    "except pyodbc.Error as e:\n",
    "    logging.error(f\"Error al conectar con la base de datos sumi: {e}\")\n",
    "    raise"
   ]
  },
  {
   "cell_type": "code",
   "execution_count": 16,
   "id": "707aabfd",
   "metadata": {},
   "outputs": [],
   "source": [
    "logger = conf_logging(\"notbook_log\")"
   ]
  },
  {
   "cell_type": "code",
   "execution_count": 22,
   "id": "a2c3d057",
   "metadata": {},
   "outputs": [],
   "source": [
    "nombre_archivo_2=os.path.join(nombre_archivo, 'data_jobs.csv')\n",
    "try:\n",
    "    df_data=pd.read_csv(f'{nombre_archivo_2}', sep=',',low_memory=False)\n",
    "except Exception as e:\n",
    "    logger.error(f\"Error al cargar el archivo: {e}\")\n",
    "    raise"
   ]
  },
  {
   "cell_type": "code",
   "execution_count": 27,
   "id": "88794fea",
   "metadata": {},
   "outputs": [],
   "source": [
    "def mapeo_tipo_dato(tipos, muestra=None):\n",
    "        if pd.api.types.is_integer_dtype(tipos):\n",
    "            return 'INTEGER'\n",
    "        elif pd.api.types.is_float_dtype(tipos):\n",
    "            return 'FLOAT'\n",
    "        elif pd.api.types.is_bool_dtype(tipos):\n",
    "            return \"BOOLEAN\"\n",
    "        elif pd.api.types.is_datetime64_any_dtype(tipos):\n",
    "            return \"TIMESTAMP\"\n",
    "        elif pd.api.types.is_object_dtype(tipos) and isinstance(muestra, list):\n",
    "            return \"TEXT\"\n",
    "        elif pd.api.types.is_object_dtype(tipos) and isinstance(muestra, dict):\n",
    "            return \"JSONB\"\n",
    "        elif pd.api.types.is_string_dtype(tipos):\n",
    "            return \"VARCHAR(255)\"\n",
    "        else:\n",
    "            return \"TEXT\"\n",
    "\n",
    "def crear_tabla_dinamica(conn,df, tabla):\n",
    "    cursor = conn.cursor()\n",
    "    columnas = []\n",
    "    \n",
    "    for col in df.columns:\n",
    "        tipo_pg = mapeo_tipo_dato(df[col].dtype, df[col].dropna().iloc[0] if not df[col].dropna().empty else None)\n",
    "        col_limpio = col.lower().strip().replace(\" \", \"_\")\n",
    "        columnas.append(f'\"{col_limpio}\" {tipo_pg}')\n",
    "    \n",
    "    columnas_sql = \", \".join(columnas)\n",
    "    sql = f\"\"\"\n",
    "        CREATE TABLE IF NOT EXISTS {tabla} (\n",
    "            {columnas_sql}\n",
    "        );\n",
    "    \"\"\"\n",
    "    return sql\n",
    "    #cursor.execute(sql)\n",
    "    #self.conn.commit()"
   ]
  },
  {
   "cell_type": "code",
   "execution_count": 28,
   "id": "6192269c",
   "metadata": {},
   "outputs": [],
   "source": [
    "a=crear_tabla_dinamica(conn, df_data, 'data_jobs')"
   ]
  },
  {
   "cell_type": "code",
   "execution_count": 29,
   "id": "3286f602",
   "metadata": {},
   "outputs": [
    {
     "data": {
      "text/plain": [
       "'\\n        CREATE TABLE IF NOT EXISTS data_jobs (\\n            \"job_title_short\" VARCHAR(255), \"job_title\" VARCHAR(255), \"job_location\" VARCHAR(255), \"job_via\" VARCHAR(255), \"job_schedule_type\" VARCHAR(255), \"job_work_from_home\" BOOLEAN, \"search_location\" VARCHAR(255), \"job_posted_date\" VARCHAR(255), \"job_no_degree_mention\" BOOLEAN, \"job_health_insurance\" BOOLEAN, \"job_country\" VARCHAR(255), \"salary_rate\" VARCHAR(255), \"salary_year_avg\" FLOAT, \"salary_hour_avg\" FLOAT, \"company_name\" VARCHAR(255), \"job_skills\" VARCHAR(255), \"job_type_skills\" VARCHAR(255)\\n        );\\n    '"
      ]
     },
     "execution_count": 29,
     "metadata": {},
     "output_type": "execute_result"
    }
   ],
   "source": [
    "a"
   ]
  }
 ],
 "metadata": {
  "kernelspec": {
   "display_name": "ingeniero-datos-p-tecnica-w4txLukW-py3.12",
   "language": "python",
   "name": "python3"
  },
  "language_info": {
   "codemirror_mode": {
    "name": "ipython",
    "version": 3
   },
   "file_extension": ".py",
   "mimetype": "text/x-python",
   "name": "python",
   "nbconvert_exporter": "python",
   "pygments_lexer": "ipython3",
   "version": "3.12.4"
  }
 },
 "nbformat": 4,
 "nbformat_minor": 5
}
