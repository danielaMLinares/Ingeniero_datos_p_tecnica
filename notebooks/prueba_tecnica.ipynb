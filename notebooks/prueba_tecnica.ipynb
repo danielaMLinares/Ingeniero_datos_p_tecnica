{
 "cells": [
  {
   "cell_type": "code",
   "execution_count": 53,
   "id": "2ff92dc6",
   "metadata": {},
   "outputs": [],
   "source": [
    "import pandas as pd\n",
    "import os\n",
    "import logging\n",
    "import sys\n",
    "import pyodbc"
   ]
  },
  {
   "cell_type": "code",
   "execution_count": 54,
   "id": "6c3e9567",
   "metadata": {},
   "outputs": [],
   "source": [
    "nombre_archivo=r'C:\\Users\\user\\Desktop\\PRUEBA_TECNICA\\Ingeniero_datos_p_tecnica\\data\\raw'"
   ]
  },
  {
   "cell_type": "code",
   "execution_count": 55,
   "id": "7563830f",
   "metadata": {},
   "outputs": [],
   "source": [
    "def conf_logging (log_archivo:str):#conf_logging (log_archivo):\n",
    "\n",
    "    logging.basicConfig(\n",
    "    level=logging.INFO,\n",
    "    format=\"%(asctime)s - %(levelname)s - %(message)s\",\n",
    "    handlers=[\n",
    "        logging.FileHandler(log_archivo, mode='a',encoding=\"utf-8\"),  # Guardar log en archivo\n",
    "        logging.StreamHandler(),  # También quiero imprimir log en la consola\n",
    "    ],\n",
    "    )\n",
    "    logger = logging.getLogger()\n",
    "    return logger"
   ]
  },
  {
   "cell_type": "code",
   "execution_count": 56,
   "id": "ec40488e",
   "metadata": {},
   "outputs": [
    {
     "name": "stderr",
     "output_type": "stream",
     "text": [
      "2025-07-28 19:46:05,660 - INFO - Conexión a la base de datos sumi exitosa.\n"
     ]
    }
   ],
   "source": [
    "try:\n",
    "    conn = pyodbc.connect(\n",
    "        \"DRIVER={PostgreSQL ODBC Driver(UNICODE)};\"\n",
    "        \"SERVER=localhost;\"\n",
    "        \"DATABASE=pipeline_db;\" \n",
    "        \"PORT=5433;\"\n",
    "        \"UID=postgres;\"\n",
    "        \"PWD=postgres\"\n",
    "    )\n",
    "    logging.info(\"Conexión a la base de datos sumi exitosa.\")\n",
    "except pyodbc.Error as e:\n",
    "    logging.error(f\"Error al conectar con la base de datos sumi: {e}\")\n",
    "    raise"
   ]
  },
  {
   "cell_type": "code",
   "execution_count": 57,
   "id": "707aabfd",
   "metadata": {},
   "outputs": [],
   "source": [
    "logger = conf_logging(\"notbook_log\")"
   ]
  },
  {
   "cell_type": "code",
   "execution_count": 58,
   "id": "d2d9814e",
   "metadata": {},
   "outputs": [],
   "source": [
    "def consultar(conn,consulta):\n",
    "    try:\n",
    "        cursor=conn.cursor()\n",
    "        query=consulta\n",
    "        cursor.execute(query)\n",
    "        get=cursor.fetchall()\n",
    "        columnas=[column[0] for column in cursor.description]\n",
    "        df_excel=pd.DataFrame.from_records(get,columns=columnas)#.astype(str)\n",
    "        return df_excel\n",
    "    except Exception as e:\n",
    "        logging.info(f\"Ocurrio un error al consultar ({consulta}): {e}\")\n",
    "        return None"
   ]
  },
  {
   "cell_type": "code",
   "execution_count": 59,
   "id": "a2c3d057",
   "metadata": {},
   "outputs": [],
   "source": [
    "nombre_archivo_2=os.path.join(nombre_archivo, 'data_jobs.csv')\n",
    "try:\n",
    "    df_data=pd.read_csv(f'{nombre_archivo_2}', sep=',',low_memory=False)\n",
    "except Exception as e:\n",
    "    logger.error(f\"Error al cargar el archivo: {e}\")\n",
    "    raise"
   ]
  },
  {
   "cell_type": "code",
   "execution_count": 96,
   "id": "88794fea",
   "metadata": {},
   "outputs": [],
   "source": [
    "def mapeo_tipo_dato(tipos, muestra=None):\n",
    "        if pd.api.types.is_integer_dtype(tipos):\n",
    "            return 'INTEGER'\n",
    "        elif pd.api.types.is_float_dtype(tipos):\n",
    "            return 'FLOAT'\n",
    "        elif pd.api.types.is_bool_dtype(tipos):\n",
    "            return \"BOOLEAN\"\n",
    "        elif pd.api.types.is_datetime64_any_dtype(tipos):\n",
    "            return \"TIMESTAMP\"\n",
    "        elif pd.api.types.is_object_dtype(tipos) and isinstance(muestra, list):\n",
    "            return \"TEXT\"\n",
    "        elif pd.api.types.is_object_dtype(tipos) and isinstance(muestra, dict):\n",
    "            return \"JSONB\"\n",
    "        elif pd.api.types.is_string_dtype(tipos):\n",
    "            return \"TEXT\"\n",
    "        else:\n",
    "            return \"TEXT\"\n",
    "\n",
    "def crear_tabla_dinamica(conn,df, tabla):\n",
    "    cursor = conn.cursor()\n",
    "    columnas = []\n",
    "    \n",
    "    for col in df.columns:\n",
    "        tipo_pg = mapeo_tipo_dato(df[col].dtype, df[col].dropna().iloc[0] if not df[col].dropna().empty else None)\n",
    "        col_limpio = col.lower().strip().replace(\" \", \"_\")\n",
    "        columnas.append(f'\"{col_limpio}\" {tipo_pg}')\n",
    "    \n",
    "    columnas_sql = \", \".join(columnas)\n",
    "    sql = f\"\"\"\n",
    "        CREATE TABLE IF NOT EXISTS {tabla} (\n",
    "            {columnas_sql}\n",
    "        );\n",
    "    \"\"\"\n",
    "    \n",
    "    cursor.execute(sql)\n",
    "    conn.commit()\n",
    "    return sql"
   ]
  },
  {
   "cell_type": "code",
   "execution_count": null,
   "id": "6192269c",
   "metadata": {},
   "outputs": [],
   "source": [
    "tabla='data_jobs_raw'\n",
    "a=crear_tabla_dinamica(conn, df_data, tabla)"
   ]
  },
  {
   "cell_type": "code",
   "execution_count": 80,
   "id": "b9e64582",
   "metadata": {},
   "outputs": [
    {
     "name": "stderr",
     "output_type": "stream",
     "text": [
      "2025-07-28 19:54:11,077 - INFO - Ocurrio un error al consultar (SELECT * FROM data_jobs_raw;): ('42P01', '[42P01] ERROR: relation \"data_jobs_raw\" does not exist;\\nError while executing the query (1) (SQLExecDirectW)')\n"
     ]
    }
   ],
   "source": [
    "df=consultar(conn, \"SELECT * FROM data_jobs_raw;\")"
   ]
  },
  {
   "cell_type": "code",
   "execution_count": 77,
   "id": "3286f602",
   "metadata": {},
   "outputs": [
    {
     "name": "stdout",
     "output_type": "stream",
     "text": [
      "\n",
      "        CREATE TABLE IF NOT EXISTS data_jobs_raw (\n",
      "            \"job_title_short\" VARCHAR(255), \"job_title\" VARCHAR(255), \"job_location\" VARCHAR(255), \"job_via\" VARCHAR(255), \"job_schedule_type\" VARCHAR(255), \"job_work_from_home\" BOOLEAN, \"search_location\" VARCHAR(255), \"job_posted_date\" VARCHAR(255), \"job_no_degree_mention\" BOOLEAN, \"job_health_insurance\" BOOLEAN, \"job_country\" VARCHAR(255), \"salary_rate\" VARCHAR(255), \"salary_year_avg\" FLOAT, \"salary_hour_avg\" FLOAT, \"company_name\" VARCHAR(255), \"job_skills\" VARCHAR(255), \"job_type_skills\" VARCHAR(255)\n",
      "        );\n",
      "    \n"
     ]
    }
   ],
   "source": [
    "print(a)"
   ]
  },
  {
   "cell_type": "code",
   "execution_count": null,
   "id": "3360a969",
   "metadata": {},
   "outputs": [
    {
     "name": "stderr",
     "output_type": "stream",
     "text": [
      "2025-07-28 20:46:12,667 - INFO - Conexión a la base de datos exitosa.\n",
      "C:\\Users\\user\\AppData\\Local\\Temp\\ipykernel_28084\\448116207.py:26: FutureWarning: DataFrame.applymap has been deprecated. Use DataFrame.map instead.\n",
      "  df = df.applymap(lambda x: str(x).replace('\"', '\"\"') if isinstance(x, str) else x)\n"
     ]
    },
    {
     "name": "stdout",
     "output_type": "stream",
     "text": [
      "Inserción exitosa.\n"
     ]
    }
   ],
   "source": [
    "\n",
    "import psycopg2\n",
    "try:\n",
    "    conn2 = psycopg2.connect(\n",
    "        host=\"localhost\",\n",
    "        database=\"pipeline_db\",\n",
    "        user=\"postgres\",\n",
    "        password=\"postgres\",\n",
    "        port=5433\n",
    "    )\n",
    "    logging.info(\"Conexión a la base de datos exitosa.\")\n",
    "except psycopg2.Error as e:\n",
    "    logging.error(f\"Error al conectar con la base de datos: {e}\")\n",
    "    raise\n",
    "\n",
    "\n",
    "\n",
    "import psycopg2\n",
    "import io\n",
    "\n",
    "def bulk_insert_copy(df, tabla, conn):\n",
    "    cursor = conn.cursor()\n",
    "    crear_tabla_dinamica(conn, df_data, tabla)\n",
    "\n",
    "    df = df.replace({r'\\t': ' ', r'\\n': ' ', r'\\r': ' '}, regex=True)\n",
    "    df = df.applymap(lambda x: str(x).replace('\"', '\"\"') if isinstance(x, str) else x)\n",
    "\n",
    "    output = io.StringIO() #moviendome en la memoria...\n",
    "    df.to_csv(output, sep='\\t', header=False, index=False, na_rep='\\\\N')\n",
    "    output.seek(0)\n",
    "\n",
    "    try:\n",
    "        cursor.copy_from(output, tabla, sep='\\t', null='\\\\N')\n",
    "        conn.commit()\n",
    "        logger.info(\"Inserción exitosa.\")\n",
    "    except Exception as e:\n",
    "        logger.error(f\"Error en copy_from: {e}\")\n",
    "        conn.rollback()\n",
    "        raise\n",
    "    finally:\n",
    "        cursor.close()\n",
    "\n",
    "bulk_insert_copy(df_data, tabla, conn2)\n"
   ]
  },
  {
   "cell_type": "code",
   "execution_count": 92,
   "id": "e7b1c00c",
   "metadata": {},
   "outputs": [
    {
     "name": "stderr",
     "output_type": "stream",
     "text": [
      "C:\\Users\\user\\AppData\\Local\\Temp\\ipykernel_28084\\3801102422.py:1: FutureWarning: DataFrame.applymap has been deprecated. Use DataFrame.map instead.\n",
      "  longitudes = df_data.select_dtypes(include='object').applymap(lambda x: len(str(x)) if x else 0).max()\n"
     ]
    },
    {
     "name": "stdout",
     "output_type": "stream",
     "text": [
      "Longitud máxima por columna:\n",
      " company_name         939\n",
      "job_type_skills      651\n",
      "job_skills           536\n",
      "job_title            113\n",
      "job_via              113\n",
      "job_location          95\n",
      "job_schedule_type     37\n",
      "search_location       33\n",
      "job_country           33\n",
      "job_title_short       25\n",
      "job_posted_date       19\n",
      "salary_rate            5\n",
      "dtype: int64\n"
     ]
    }
   ],
   "source": [
    "longitudes = df_data.select_dtypes(include='object').applymap(lambda x: len(str(x)) if x else 0).max()\n",
    "print(\"Longitud máxima por columna:\\n\", longitudes.sort_values(ascending=False))"
   ]
  },
  {
   "cell_type": "code",
   "execution_count": 82,
   "id": "86cfce7e",
   "metadata": {},
   "outputs": [
    {
     "name": "stdout",
     "output_type": "stream",
     "text": [
      "\"job_title_short\", \"job_title\", \"job_location\", \"job_via\", \"job_schedule_type\", \"job_work_from_home\", \"search_location\", \"job_posted_date\", \"job_no_degree_mention\", \"job_health_insurance\", \"job_country\", \"salary_rate\", \"salary_year_avg\", \"salary_hour_avg\", \"company_name\", \"job_skills\", \"job_type_skills\"\n"
     ]
    }
   ],
   "source": [
    "print(columnas)"
   ]
  },
  {
   "cell_type": "code",
   "execution_count": 113,
   "id": "6e06fb34",
   "metadata": {},
   "outputs": [],
   "source": [
    "cursor = conn.cursor()\n",
    "cursor.execute(\"drop table if exists data_jobs_raw;\")\n",
    "conn.commit()"
   ]
  },
  {
   "cell_type": "code",
   "execution_count": 52,
   "id": "31ed5b20",
   "metadata": {},
   "outputs": [],
   "source": [
    "cursor.close()\n",
    "conn.close()"
   ]
  }
 ],
 "metadata": {
  "kernelspec": {
   "display_name": "ingeniero-datos-p-tecnica-w4txLukW-py3.12",
   "language": "python",
   "name": "python3"
  },
  "language_info": {
   "codemirror_mode": {
    "name": "ipython",
    "version": 3
   },
   "file_extension": ".py",
   "mimetype": "text/x-python",
   "name": "python",
   "nbconvert_exporter": "python",
   "pygments_lexer": "ipython3",
   "version": "3.12.4"
  }
 },
 "nbformat": 4,
 "nbformat_minor": 5
}
